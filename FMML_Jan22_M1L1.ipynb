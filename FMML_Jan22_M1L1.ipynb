{
  "nbformat": 4,
  "nbformat_minor": 0,
  "metadata": {
    "colab": {
      "name": " FMML_Jan22_M1L1.ipynb",
      "provenance": [],
      "collapsed_sections": [],
      "include_colab_link": true
    },
    "kernelspec": {
      "name": "python3",
      "display_name": "Python 3"
    },
    "language_info": {
      "name": "python"
    }
  },
  "cells": [
    {
      "cell_type": "markdown",
      "metadata": {
        "id": "view-in-github",
        "colab_type": "text"
      },
      "source": [
        "<a href=\"https://colab.research.google.com/github/ManikGo/ML/blob/main/FMML_Jan22_M1L1.ipynb\" target=\"_parent\"><img src=\"https://colab.research.google.com/assets/colab-badge.svg\" alt=\"Open In Colab\"/></a>"
      ]
    },
    {
      "cell_type": "markdown",
      "source": [
        "# Getting Started\n",
        "\n",
        "FMML Module 1, Lab 1 <br>\n",
        " Module Coordinator: Amit Pandey ( amit.pandey@research.iiit.ac.in ) <br>\n",
        " Release date: Jan 2022 <br>\n",
        "\n"
      ],
      "metadata": {
        "id": "TMVRKfbpTAeR"
      }
    },
    {
      "cell_type": "markdown",
      "source": [
        "### In this notebook we will be covering the very basics of Python and some basic libraries such as Numpy, Matplotlib and Nltk."
      ],
      "metadata": {
        "id": "F-XjWYLBTI0f"
      }
    },
    {
      "cell_type": "code",
      "source": [
        "# Question 1 : \n",
        "\n",
        "# Given a list having Names, work_hours, and gender, Write a function to print name of the female worker that worked the most hours. Also how much do should she be paid if the pay is $ 20 per hour.\n",
        "\n",
        "# work_hours = [('Abby',100 , 'F'),('Billy',400, 'M'),('Cassie',800,'F'), ('Maggi',600,'F'),('Alex',500,'M'),('Raj',225,'M'),('Penny',920,'F'),('Ben',300,'M')]"
      ],
      "metadata": {
        "id": "Js0CEiOZZfOv"
      },
      "execution_count": null,
      "outputs": []
    },
    {
      "cell_type": "code",
      "source": [
        "from operator import itemgetter\n",
        "work_hours = [('Abby',100 , 'F'),('Billy',400, 'M'),('Cassie',800,'F'), ('Maggi',600,'F'),('Alex',500,'M'),('Raj',225,'M'),('Penny',920,'F'),('Ben',300,'M')]\n",
        "work_hours = sorted(work_hours, key=itemgetter(1), reverse=True)\n",
        "for i in range(0,8):\n",
        "  if work_hours[i][2]=='F':\n",
        "    print(work_hours[i][1]*20)\n",
        "    break"
      ],
      "metadata": {
        "colab": {
          "base_uri": "https://localhost:8080/"
        },
        "id": "oYkByI3BsNaZ",
        "outputId": "b65e6665-60aa-4790-ed26-22cdcee7f5ee"
      },
      "execution_count": 1,
      "outputs": [
        {
          "output_type": "stream",
          "name": "stdout",
          "text": [
            "18400\n"
          ]
        }
      ]
    },
    {
      "cell_type": "code",
      "source": [
        "# Question 2 : \n",
        "\n",
        "# a)Create a 5x5 matrix of the following form, \n",
        "\n",
        "# [[1,1]\n",
        "#  [2,2]]\n",
        "\n",
        "#  i.e. each row is increasing and has repetive elements.\n",
        "\n",
        "#  Hint : you can use hstack, vstack  etc.\n",
        "\n",
        " \n",
        "# b) find dot product of the matrix with any matrix. (Figure out the size/ shape of the matrix)"
      ],
      "metadata": {
        "id": "yeL7-n4gtUTA"
      },
      "execution_count": null,
      "outputs": []
    },
    {
      "cell_type": "code",
      "source": [
        "# a)Create a 5x5 matrix of the following form, \n",
        "\n",
        "# [[1,1]\n",
        "#  [2,2]] \n",
        "import numpy as np\n",
        "arr1 = [1,1,1,1,1]\n",
        "arr2 = [2,2,2,2,2]\n",
        "arr3 = [3,3,3,3,3]\n",
        "arr4 = [4,4,4,4,4]\n",
        "arr5 = [5,5,5,5,5]\n",
        "arr = [[arr1] + [arr2] + [arr3] + [arr4] + [arr5]]\n",
        "m = np.vstack(arr)\n",
        "print(m)"
      ],
      "metadata": {
        "id": "nqDJnuJYsVki"
      },
      "execution_count": null,
      "outputs": []
    },
    {
      "cell_type": "code",
      "source": [
        "# b) find dot product of the matrix with any matrix. (Figure out the size/ shape of the matrix)\n",
        "import numpy as np\n",
        "a = int(input(\"Enter the number of rows:\"))\n",
        "b = int(input(\"Enter the number of columns:\")) \n",
        "print(\"Enter the entries in a single line (separated by space): \")\n",
        "entries = list(map(int, input().split()))\n",
        "M1 = np.array(entries).reshape(a, b)\n",
        "print(M1)\n",
        "c = int(input(\"Enter the number of rows:\"))\n",
        "d = int(input(\"Enter the number of columns:\")) \n",
        "print(\"Enter the entries in a single line (separated by space): \")\n",
        "entries = list(map(int, input().split()))\n",
        "M2 = np.array(entries).reshape(c, d)\n",
        "print(M2)\n",
        "product = np.dot(M1,M2)\n",
        "print(product)"
      ],
      "metadata": {
        "id": "NeSfUJpysaIy"
      },
      "execution_count": null,
      "outputs": []
    },
    {
      "cell_type": "code",
      "source": [
        "## Question 3 : Upload an image to your google drive, Use plt.imread to read image from the google drive and then print that image using plt.imshow"
      ],
      "metadata": {
        "id": "mC8rNbeKxiaF"
      },
      "execution_count": null,
      "outputs": []
    },
    {
      "cell_type": "code",
      "source": [
        ""
      ],
      "metadata": {
        "id": "wM0uTVaKsePZ"
      },
      "execution_count": null,
      "outputs": []
    }
  ]
}